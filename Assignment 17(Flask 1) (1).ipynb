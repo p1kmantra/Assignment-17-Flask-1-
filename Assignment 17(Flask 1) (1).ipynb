{
 "cells": [
  {
   "cell_type": "markdown",
   "id": "c089403f-1a3e-4719-8c44-9db17a564ba5",
   "metadata": {},
   "source": [
    "Q1. What is Flask Framework? What are the advantages of Flask Framework ?"
   ]
  },
  {
   "cell_type": "markdown",
   "id": "78b8b4ae-44d0-4e0d-a0ec-8a9a32e4c267",
   "metadata": {},
   "source": [
    "Ans. Flask is a light weight and versatile Python web framework used for building web applications .It provides tools ,libraries and components that help developers create web applications quickly and efficiently .Flask follows the 'micro'frame work approach, which means it provides the essential needed for web development without imposing strict rules or dependencies ."
   ]
  },
  {
   "cell_type": "markdown",
   "id": "250c0ed4-042f-4188-8346-8c8443a15f31",
   "metadata": {},
   "source": [
    "Advantages of flask farme work:"
   ]
  },
  {
   "cell_type": "markdown",
   "id": "f30d4370-a145-4c01-8255-84cf0f91ce2f",
   "metadata": {},
   "source": [
    "(a).Simplicity: Falsk is designed to be simple and easy to undersatnd ,making it good choice for beginers and experinced developers ."
   ]
  },
  {
   "cell_type": "markdown",
   "id": "a70972f5-72c5-4e9f-8c19-9ec6321ed4de",
   "metadata": {},
   "source": [
    "(b).Flexibility: Falsk doesn't enforce a specific structure , allowing developers to to choose the components they need and built applications that suit their requirements."
   ]
  },
  {
   "cell_type": "markdown",
   "id": "bca21b43-c8b8-4a46-8dcb-5af84d0d9770",
   "metadata": {},
   "source": [
    "(c).Lightweight: Beimng a micro framework ,falsk doesn't come with a lot of built-in features ,which keeps this codebase lightweight and efficient."
   ]
  },
  {
   "cell_type": "markdown",
   "id": "8c84e472-34e1-439a-9dd4-15c9c98902a5",
   "metadata": {},
   "source": [
    "(d).Modular:It is modular ,meaning we can use extensions or add-ons to enhance its functionality as needed ,reducing the overhead of unnecessary features."
   ]
  },
  {
   "cell_type": "markdown",
   "id": "5171e8d2-cd54-491d-b99d-3005c8071a3a",
   "metadata": {},
   "source": [
    "(e).Customization: We have the freedom to choose the components we want ,allowing us to build applicatiobn tailored to our needs without being locked into a predefined structure."
   ]
  },
  {
   "cell_type": "markdown",
   "id": "4f000396-6187-4afe-b48a-c4fddb2b8501",
   "metadata": {},
   "source": [
    "(f).RESTful Support: Flask's lightweight nature and flexible strucutre make it a popular choice for building RESTful APIs."
   ]
  },
  {
   "cell_type": "markdown",
   "id": "3f3c8749-5304-4ba3-b815-80f2b999bdd6",
   "metadata": {},
   "source": [
    "(g).Pythonic: flask leverages Python's idioms and features ,making it familiar to Python developers and allowing them to use their Python skills effectively."
   ]
  },
  {
   "cell_type": "markdown",
   "id": "14b29726-1f57-4e73-b632-ed7473579ee5",
   "metadata": {},
   "source": [
    "Flask might be a great choice for smaller to medium-sized projects where simplicity and flexibility are priorities ."
   ]
  },
  {
   "cell_type": "code",
   "execution_count": null,
   "id": "dde1a960-61fa-4fef-90d4-a2472d2aee83",
   "metadata": {},
   "outputs": [],
   "source": []
  },
  {
   "cell_type": "markdown",
   "id": "a4ec95db-44a4-41bc-9514-5e1acbcb8f9c",
   "metadata": {},
   "source": [
    "Q2. Create a simple Flask application to display ‘Hello World!!’. Attach the screenshot of the output in Jupyter Notebook."
   ]
  },
  {
   "cell_type": "markdown",
   "id": "be1890bc-df27-4fa3-b217-8dfd0f396daa",
   "metadata": {},
   "source": [
    "Ans."
   ]
  },
  {
   "cell_type": "code",
   "execution_count": 8,
   "id": "331df8f8-f572-41e6-87fd-b5dbb66bb0b3",
   "metadata": {},
   "outputs": [
    {
     "data": {
      "image/png": "[encoded data removed]",
      "text/plain": [
       "<IPython.core.display.Image object>"
      ]
     },
     "execution_count": 8,
     "metadata": {},
     "output_type": "execute_result"
    }
   ],
   "source": [
    "from IPython import display\n",
    "display.Image(\"test.png\")"
   ]
  },
  {
   "cell_type": "markdown",
   "id": "2bad0a9c-973e-43e9-b19e-f489001e17cb",
   "metadata": {},
   "source": [
    "Q3. What is App routing in Flask? Why do we use app routes?"
   ]
  },
  {
   "cell_type": "markdown",
   "id": "c9529104-6c86-421a-913f-ec098bb8bda9",
   "metadata": {},
   "source": [
    "Ans. In Flask ,app routing refers to the process of defining URL patterns that correspond to specific functions or views in our application .These URL patters are known as routes ,and they define how different URLs are handled by our applications .App routing is fundamental concept in falsk that allows we to map incoming requests to the appropriate Python functions that generate the response ."
   ]
  },
  {
   "cell_type": "markdown",
   "id": "0c27f336-aa1e-4695-b96e-54043243fd82",
   "metadata": {},
   "source": [
    "App routes are defined using decorators provided by Flask.The most common decoretor used for defining routes is '@app.route()' .Here's a simple example:"
   ]
  },
  {
   "cell_type": "code",
   "execution_count": null,
   "id": "43e3df6e-0a9a-4681-a8f0-17c545d57582",
   "metadata": {},
   "outputs": [],
   "source": [
    "from flask import flask\n",
    "\n",
    "app=flask(__name__)\n",
    "\n",
    "@app.route('/')\n",
    "def test():\n",
    "    return \"welcome to app test\""
   ]
  },
  {
   "cell_type": "markdown",
   "id": "e837e7eb-14bc-4838-9dce-eee97c6ffde5",
   "metadata": {},
   "source": [
    "In this exaple ,the @app.route(\"/\") decorator associates \"/\" URL path with the 'test()'function so when a user visit the root URL of the application ,Flask will call the \"test()\" function and return \"welcome to the app test\" message as the response."
   ]
  },
  {
   "cell_type": "markdown",
   "id": "b9867a55-b21e-4ac9-ba1e-5a50b6784e38",
   "metadata": {},
   "source": [
    "We use routes in flask for several reasons:"
   ]
  },
  {
   "cell_type": "markdown",
   "id": "78b03440-60ec-444a-aa6e-9c1309a0c53d",
   "metadata": {},
   "source": [
    "(a).URL mapping: App routes provide a way to map specific URLs to specific functions or views in our application."
   ]
  },
  {
   "cell_type": "markdown",
   "id": "ea0d082c-ddff-4aa3-b922-9c00bb099c34",
   "metadata": {},
   "source": [
    "(b).Dynamic Content: App routes allow we to generate dynamic content for different URLs by exicuting different functions and returning appropriate response."
   ]
  },
  {
   "cell_type": "markdown",
   "id": "0bc7233d-b174-4444-84d3-ed05ac5c1d94",
   "metadata": {},
   "source": [
    "(c).Modular Design: By separating functions and associating them with specific routes ,we can achieve a modular and organized code structure."
   ]
  },
  {
   "cell_type": "markdown",
   "id": "d3023768-f259-4683-bb6c-4e21d06f5205",
   "metadata": {},
   "source": [
    "(d).RESTful APIs: App routes are crucial for building RESTful APIs ,where differnt routes correspond to different APIs endpoints and their respective actions (GET,POST,PUT,DELETE,etc)"
   ]
  },
  {
   "cell_type": "markdown",
   "id": "b0043625-1387-4972-bf11-92a0511bbd28",
   "metadata": {},
   "source": [
    "over all ,app routes in flask provide a powerful mechanism for defining the behavior of our web application and directing incomming requests to the appropriate code for generating responses."
   ]
  },
  {
   "cell_type": "code",
   "execution_count": null,
   "id": "67ce022d-4245-4a0a-a88a-0bcacef9bcca",
   "metadata": {},
   "outputs": [],
   "source": []
  },
  {
   "cell_type": "markdown",
   "id": "62e4073b-bce5-4440-92be-b9303b25dcb8",
   "metadata": {},
   "source": [
    "Q4.  Create a “/welcome” route to display the welcome message “Welcome to ABC Corporation” and a “/”\n",
    "route to show the following details:\n",
    "\n",
    "    Company Name: ABC Corporation\n",
    "\n",
    "    Location: India\n",
    "\n",
    "    Contact Detail: 999-999-9999 "
   ]
  },
  {
   "cell_type": "markdown",
   "id": "e24f72b8-170a-48a1-9424-d49b204cbbe7",
   "metadata": {},
   "source": [
    "Ans."
   ]
  },
  {
   "cell_type": "code",
   "execution_count": 1,
   "id": "10945000-a457-46c3-b79f-bd23e9743bb1",
   "metadata": {},
   "outputs": [
    {
     "data": {
      "image/png": "[encoded data removed]",
      "text/plain": [
       "<IPython.core.display.Image object>"
      ]
     },
     "execution_count": 1,
     "metadata": {},
     "output_type": "execute_result"
    }
   ],
   "source": [
    "from IPython import display\n",
    "display.Image(\"test1.png\")"
   ]
  },
  {
   "cell_type": "code",
   "execution_count": null,
   "id": "36422289-456c-43da-9783-f6ac993876eb",
   "metadata": {},
   "outputs": [],
   "source": []
  },
  {
   "cell_type": "markdown",
   "id": "899c171f-b943-4973-92bc-2b458216ebfc",
   "metadata": {},
   "source": [
    "Q5. What function is used in Flask for URL Building? Write a Python code to demonstrate the working of the\n",
    "url_for() function."
   ]
  },
  {
   "cell_type": "markdown",
   "id": "c6fe22a4-54a1-4707-acf4-e7ba51134660",
   "metadata": {},
   "source": [
    "Ans. In flask ,the url_for() function is used for URL_building .It generates url for a given view function and any argument passed to it .Here's an example code snippet demonstrating the use of the 'url_for()' function."
   ]
  },
  {
   "cell_type": "code",
   "execution_count": null,
   "id": "7ad790d6-263c-45b3-82c3-0a20b5fc89f8",
   "metadata": {},
   "outputs": [],
   "source": [
    "from flask import flask\n",
    "app = Flask(__name__)\n",
    "\n",
    "@app.route(\"/\")\n",
    "def hello():\n",
    "    return \"welocome to Data Science world\"\n",
    "\n",
    "\n",
    "@app.route(\"/show\")\n",
    "def demonstrate():\n",
    "    a = {\"Upcoming Course\": \"Data Analytics\"}\n",
    "    return \"The function to make Web API{}\".formate(a)\n",
    "\n",
    "\n",
    "if __name__==\"__main__\":\n",
    "    app.run(host=\"0.0.0.0\")\n",
    "    "
   ]
  },
  {
   "cell_type": "markdown",
   "id": "14b9f3a8-1fc5-4cc2-b0c5-32972021deed",
   "metadata": {},
   "source": [
    "In this example ,when we run the Flask and access it."
   ]
  },
  {
   "cell_type": "code",
   "execution_count": null,
   "id": "908b78c5-8f81-497e-a605-f63a11844df8",
   "metadata": {},
   "outputs": [],
   "source": []
  }
 ],
 "metadata": {
  "kernelspec": {
   "display_name": "Python 3 (ipykernel)",
   "language": "python",
   "name": "python3"
  },
  "language_info": {
   "codemirror_mode": {
    "name": "ipython",
    "version": 3
   },
   "file_extension": ".py",
   "mimetype": "text/x-python",
   "name": "python",
   "nbconvert_exporter": "python",
   "pygments_lexer": "ipython3",
   "version": "3.10.8"
  }
 },
 "nbformat": 4,
 "nbformat_minor": 5
}
